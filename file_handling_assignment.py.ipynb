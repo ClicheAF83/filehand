{
 "cells": [
  {
   "cell_type": "code",
   "execution_count": 1,
   "id": "019776f1",
   "metadata": {},
   "outputs": [
    {
     "name": "stdout",
     "output_type": "stream",
     "text": [
      "File accessed and appended successfully\n"
     ]
    }
   ],
   "source": [
    "try:\n",
    "    with open('my_file.txt', 'w') as f:\n",
    "        f.writelines(['\\n This is line 1, \\n This is line 2, \\n 3'])\n",
    "    \n",
    "    with open('my_file.txt', 'a') as f:\n",
    "        f.writelines(['\\n This is a 4th line, \\n This is line 5, \\n This is line 6'])\n",
    "    print('File accessed and appended successfully')\n",
    "    \n",
    "except Exception as e:\n",
    "    print(f'Try again!!An error occured when handling the file;{str(e)}')\n",
    "    \n",
    "finally:\n",
    "    pass \n",
    "    "
   ]
  },
  {
   "cell_type": "code",
   "execution_count": null,
   "id": "42458d6e",
   "metadata": {},
   "outputs": [],
   "source": []
  }
 ],
 "metadata": {
  "kernelspec": {
   "display_name": "Python 3 (ipykernel)",
   "language": "python",
   "name": "python3"
  },
  "language_info": {
   "codemirror_mode": {
    "name": "ipython",
    "version": 3
   },
   "file_extension": ".py",
   "mimetype": "text/x-python",
   "name": "python",
   "nbconvert_exporter": "python",
   "pygments_lexer": "ipython3",
   "version": "3.10.9"
  }
 },
 "nbformat": 4,
 "nbformat_minor": 5
}
